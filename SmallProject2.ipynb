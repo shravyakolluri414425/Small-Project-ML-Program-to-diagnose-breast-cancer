{
  "cells": [
    {
      "cell_type": "code",
      "execution_count": 16,
      "id": "1c03a20f",
      "metadata": {
        "colab": {
          "base_uri": "https://localhost:8080/"
        },
        "id": "1c03a20f",
        "outputId": "36a656f3-c148-45ab-fb16-c2db3e215aba"
      },
      "outputs": [
        {
          "output_type": "stream",
          "name": "stdout",
          "text": [
            "Best hyperparameters: {'penalty': 'l2', 'C': 100.0}\n",
            "Accuracy: 0.9649122807017544\n",
            "Sensitivity: 0.9859154929577465\n",
            "Specificity: 0.9302325581395349\n"
          ]
        }
      ],
      "source": [
        "import numpy as np\n",
        "from sklearn import datasets\n",
        "from sklearn.linear_model import LogisticRegression\n",
        "from sklearn.ensemble import RandomForestClassifier\n",
        "from sklearn.naive_bayes import GaussianNB\n",
        "from sklearn.model_selection import train_test_split, cross_val_score, RandomizedSearchCV\n",
        "from sklearn.metrics import accuracy_score, confusion_matrix\n",
        "\n",
        "import warnings\n",
        "warnings.filterwarnings('ignore')\n",
        "\n",
        "\n",
        "\n",
        "cancer = datasets.load_breast_cancer()\n",
        "X, y = cancer.data, cancer.target\n",
        "\n",
        "# Split data into training and testing sets\n",
        "X_train, X_test, y_train, y_test = train_test_split(X, y, test_size=0.2, random_state=42)\n",
        "\n",
        "# LogisticRegression and hyperparameters for the random search\n",
        "model = LogisticRegression()\n",
        "param_dist = {'C': np.logspace(-3, 3, 7),\n",
        "              'penalty': ['l1', 'l2']}\n",
        "\n",
        "#cross-validation\n",
        "cv = 5\n",
        "search = RandomizedSearchCV(model, param_distributions=param_dist, cv=cv, n_iter=10, random_state=42)\n",
        "search.fit(X_train, y_train)\n",
        "print(\"Best hyperparameters:\", search.best_params_)\n",
        "best_model = search.best_estimator_\n",
        "y_pred = best_model.predict(X_test)\n",
        "\n",
        "accuracy = accuracy_score(y_test, y_pred)\n",
        "cm = confusion_matrix(y_test, y_pred)\n",
        "sensitivity = cm[1,1] / (cm[1,0] + cm[1,1])\n",
        "specificity = cm[0,0] / (cm[0,0] + cm[0,1])\n",
        "\n",
        "print(\"Accuracy:\", accuracy)\n",
        "print(\"Sensitivity:\", sensitivity)\n",
        "print(\"Specificity:\", specificity)\n"
      ]
    },
    {
      "cell_type": "code",
      "source": [
        "# RandomForestClassifier and hyperparameters for the grid search\n",
        "rf_model = RandomForestClassifier()\n",
        "rf_param_grid = {'n_estimators': [50, 100, 200],\n",
        "                 'max_depth': [3, 5, 7],\n",
        "                 'min_samples_split': [2, 4, 6]}\n",
        "\n",
        "# GridSearchCV for random forest\n",
        "rf_search = GridSearchCV(rf_model, param_grid=rf_param_grid, cv=5)\n",
        "rf_search.fit(X_train, y_train)\n",
        "print(\"Best hyperparameters for Random Forest:\", rf_search.best_params_)\n",
        "rf_best_model = rf_search.best_estimator_\n",
        "y_rf_pred = rf_best_model.predict(X_test)\n",
        "\n",
        "# Evaluate random forest model\n",
        "y_rf_pred = rf_best_model.predict(X_test)\n",
        "rf_accuracy = accuracy_score(y_test, y_rf_pred)\n",
        "rf_cm = confusion_matrix(y_test, y_rf_pred)\n",
        "rf_sensitivity = rf_cm[1,1] / (rf_cm[1,0] + rf_cm[1,1])\n",
        "rf_specificity = rf_cm[0,0] / (rf_cm[0,0] + rf_cm[0,1])\n",
        "\n",
        "print(\"Random Forest Model Evaluation Metrics:\")\n",
        "print(\"Accuracy:\", rf_accuracy)\n",
        "print(\"Sensitivity:\", rf_sensitivity)\n",
        "print(\"Specificity:\", rf_specificity)\n"
      ],
      "metadata": {
        "colab": {
          "base_uri": "https://localhost:8080/"
        },
        "id": "NTXNW1BMV0uR",
        "outputId": "37493fcd-ff8c-4c09-9139-eed54fe8ec0c"
      },
      "id": "NTXNW1BMV0uR",
      "execution_count": 22,
      "outputs": [
        {
          "output_type": "stream",
          "name": "stdout",
          "text": [
            "Best hyperparameters for Random Forest: {'max_depth': 5, 'min_samples_split': 2, 'n_estimators': 50}\n",
            "Random Forest Model Evaluation Metrics:\n",
            "Accuracy: 0.956140350877193\n",
            "Sensitivity: 0.971830985915493\n",
            "Specificity: 0.9302325581395349\n"
          ]
        }
      ]
    },
    {
      "cell_type": "code",
      "source": [
        "#Naive Bayes and hyperparameters for the grid search\n",
        "nb_model = GaussianNB()\n",
        "nb_param_grid = {'var_smoothing': np.logspace(0, -9, num=100)}\n",
        "\n",
        "#GridSearchCV for naive bayes\n",
        "nb_search = GridSearchCV(nb_model, param_grid=nb_param_grid, cv=5)\n",
        "nb_search.fit(X_train, y_train)\n",
        "print(\"Best hyperparameters for Naive Bayes:\", nb_search.best_params_)\n",
        "nb_best_model = nb_search.best_estimator_\n",
        "y_nb_pred = nb_best_model.predict(X_test)\n",
        "\n",
        "#Evaluate naive Bayes model\n",
        "accuracy = accuracy_score(y_test, y_pred)\n",
        "cm = confusion_matrix(y_test, y_pred)\n",
        "sensitivity = cm[1,1] / (cm[1,0] + cm[1,1])\n",
        "specificity = cm[0,0] / (cm[0,0] + cm[0,1])\n",
        "\n",
        "print(\"Naive Bayes Model Evaluation Metrics:\")\n",
        "print(\"Accuracy:\", accuracy)\n",
        "print(\"Sensitivity:\", sensitivity)\n",
        "print(\"Specificity:\", specificity)"
      ],
      "metadata": {
        "colab": {
          "base_uri": "https://localhost:8080/"
        },
        "id": "9mcT3UJVYRo7",
        "outputId": "a1f2e3cc-871e-48b3-ca48-3428e995021b"
      },
      "id": "9mcT3UJVYRo7",
      "execution_count": 26,
      "outputs": [
        {
          "output_type": "stream",
          "name": "stdout",
          "text": [
            "Best hyperparameters for Naive Bayes: {'var_smoothing': 2.310129700083158e-09}\n",
            "Naive Bayes Model Evaluation Metrics:\n",
            "Accuracy: 0.9649122807017544\n",
            "Sensitivity: 0.9859154929577465\n",
            "Specificity: 0.9302325581395349\n"
          ]
        }
      ]
    }
  ],
  "metadata": {
    "kernelspec": {
      "display_name": "Python 3 (ipykernel)",
      "language": "python",
      "name": "python3"
    },
    "language_info": {
      "codemirror_mode": {
        "name": "ipython",
        "version": 3
      },
      "file_extension": ".py",
      "mimetype": "text/x-python",
      "name": "python",
      "nbconvert_exporter": "python",
      "pygments_lexer": "ipython3",
      "version": "3.9.12"
    },
    "colab": {
      "provenance": []
    }
  },
  "nbformat": 4,
  "nbformat_minor": 5
}